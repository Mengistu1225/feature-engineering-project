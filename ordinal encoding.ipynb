{
 "cells": [
  {
   "cell_type": "raw",
   "id": "28c81d60-7671-4ff9-982e-abda5e6b3f25",
   "metadata": {},
   "source": [
    "Just as its name indicates, this method is only suitable for ordinal data."
   ]
  },
  {
   "cell_type": "code",
   "execution_count": 1,
   "id": "4a327887-7652-48c1-9883-35135befaba6",
   "metadata": {},
   "outputs": [
    {
     "ename": "NameError",
     "evalue": "name 'clean_df' is not defined",
     "output_type": "error",
     "traceback": [
      "\u001b[0;31m---------------------------------------------------------------------------\u001b[0m",
      "\u001b[0;31mNameError\u001b[0m                                 Traceback (most recent call last)",
      "Cell \u001b[0;32mIn[1], line 36\u001b[0m\n\u001b[1;32m     34\u001b[0m \u001b[38;5;66;03m# use mapping to do finish ordinal encoding\u001b[39;00m\n\u001b[1;32m     35\u001b[0m \u001b[38;5;28;01mfor\u001b[39;00m col \u001b[38;5;129;01min\u001b[39;00m frequency_cols:\n\u001b[0;32m---> 36\u001b[0m     clean_df[col] \u001b[38;5;241m=\u001b[39m clean_df[col]\u001b[38;5;241m.\u001b[39mmap(frequency_map)\n\u001b[1;32m     37\u001b[0m clean_df\u001b[38;5;241m.\u001b[39mage \u001b[38;5;241m=\u001b[39m clean_df\u001b[38;5;241m.\u001b[39mage\u001b[38;5;241m.\u001b[39mmap(age_map)\n\u001b[1;32m     38\u001b[0m clean_df\u001b[38;5;241m.\u001b[39mincome \u001b[38;5;241m=\u001b[39m clean_df\u001b[38;5;241m.\u001b[39mincome\u001b[38;5;241m.\u001b[39mmap(income_map)\n",
      "\u001b[0;31mNameError\u001b[0m: name 'clean_df' is not defined"
     ]
    }
   ],
   "source": [
    "\n",
    "import pandas as pd\n",
    "import numpy as np\n",
    "# create mapping dictionary\n",
    "frequency_map = {\n",
    "    'never': 0,\n",
    "    'less1': 1,\n",
    "    '1~3': 2,\n",
    "    '4~8': 3,\n",
    "    'gt8': 4\n",
    "}\n",
    "age_map = {\n",
    "    'below21': 0,\n",
    "    '21': 1,\n",
    "    '26': 2,\n",
    "    '31': 3,\n",
    "    '36': 4,\n",
    "    '41': 5,\n",
    "    '46': 6,\n",
    "    '50plus': 7\n",
    "}\n",
    "income_map = {\n",
    "    'Less than $12500': 0,\n",
    "    '$12500 - $24999': 1,\n",
    "    '$25000 - $37499': 2,\n",
    "    '$37500 - $49999': 3,\n",
    "    '$50000 - $62499': 4,\n",
    "    '$62500 - $74999': 5,\n",
    "    '$75000 - $87499': 6,\n",
    "    '$87500 - $99999': 7,\n",
    "    '$100000 or More': 8\n",
    "}\n",
    "frequency_cols = ['Restaurant20To50', 'RestaurantLessThan20',\n",
    "                  'CarryAway', 'CoffeeHouse', 'Bar']\n",
    "# use mapping to do finish ordinal encoding\n",
    "for col in frequency_cols:\n",
    "    clean_df[col] = clean_df[col].map(frequency_map)\n",
    "clean_df.age = clean_df.age.map(age_map)\n",
    "clean_df.income = clean_df.income.map(income_map)\n"
   ]
  },
  {
   "cell_type": "code",
   "execution_count": null,
   "id": "218d9f94-ca53-4242-a31a-7abae2807627",
   "metadata": {},
   "outputs": [],
   "source": []
  }
 ],
 "metadata": {
  "kernelspec": {
   "display_name": "Python 3 (ipykernel)",
   "language": "python",
   "name": "python3"
  },
  "language_info": {
   "codemirror_mode": {
    "name": "ipython",
    "version": 3
   },
   "file_extension": ".py",
   "mimetype": "text/x-python",
   "name": "python",
   "nbconvert_exporter": "python",
   "pygments_lexer": "ipython3",
   "version": "3.12.4"
  }
 },
 "nbformat": 4,
 "nbformat_minor": 5
}
